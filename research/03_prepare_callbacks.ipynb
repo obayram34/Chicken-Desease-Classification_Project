{
 "cells": [
  {
   "cell_type": "code",
   "execution_count": 1,
   "metadata": {},
   "outputs": [],
   "source": [
    "import os"
   ]
  },
  {
   "cell_type": "code",
   "execution_count": 2,
   "metadata": {},
   "outputs": [
    {
     "data": {
      "text/plain": [
       "'/home/oralb/Masaüstü/End_to_end_classification_project/Chicken-Desease-Classification_Project/research'"
      ]
     },
     "execution_count": 2,
     "metadata": {},
     "output_type": "execute_result"
    }
   ],
   "source": [
    "%pwd"
   ]
  },
  {
   "cell_type": "code",
   "execution_count": 3,
   "metadata": {},
   "outputs": [],
   "source": [
    "os.chdir(\"../\")"
   ]
  },
  {
   "cell_type": "code",
   "execution_count": 4,
   "metadata": {},
   "outputs": [
    {
     "data": {
      "text/plain": [
       "'/home/oralb/Masaüstü/End_to_end_classification_project/Chicken-Desease-Classification_Project'"
      ]
     },
     "execution_count": 4,
     "metadata": {},
     "output_type": "execute_result"
    }
   ],
   "source": [
    "%pwd"
   ]
  },
  {
   "cell_type": "code",
   "execution_count": 18,
   "metadata": {},
   "outputs": [],
   "source": [
    "from dataclasses import dataclass\n",
    "from pathlib import Path\n",
    "\n",
    "\n",
    "@dataclass(frozen=True)\n",
    "class PrepareCallbacksConfig:\n",
    "    root_dir: Path\n",
    "    tensorboard_root_log_dir: Path\n",
    "    checkpoint_model_filepath: Path"
   ]
  },
  {
   "cell_type": "code",
   "execution_count": null,
   "metadata": {},
   "outputs": [],
   "source": []
  },
  {
   "cell_type": "code",
   "execution_count": 19,
   "metadata": {},
   "outputs": [],
   "source": [
    "\n",
    "\n",
    "from cnnClassifier.constants import *\n",
    "from cnnClassifier.utils.common import read_yaml, create_directories\n",
    "\n"
   ]
  },
  {
   "cell_type": "code",
   "execution_count": 11,
   "metadata": {},
   "outputs": [],
   "source": [
    "class ConfigurationManager:\n",
    "    def __init__(\n",
    "        self, \n",
    "        config_filepath = CONFIG_FILE_PATH,\n",
    "        params_filepath = PARAMS_FILE_PATH):\n",
    "        self.config = read_yaml(config_filepath)\n",
    "        self.params = read_yaml(params_filepath)\n",
    "        create_directories([self.config.artifacts_root])\n",
    "\n",
    "\n",
    "    \n",
    "    def get_prepare_callback_config(self) -> PrepareCallbacksConfig:\n",
    "        config = self.config.prepare_callbacks\n",
    "        model_ckpt_dir = os.path.dirname(config.checkpoint_model_filepath)\n",
    "        create_directories([\n",
    "            Path(model_ckpt_dir),\n",
    "            Path(config.tensorboard_root_log_dir)\n",
    "        ])\n",
    "\n",
    "        prepare_callback_config = PrepareCallbacksConfig(\n",
    "            root_dir=Path(config.root_dir),\n",
    "            tensorboard_root_log_dir=Path(config.tensorboard_root_log_dir),\n",
    "            checkpoint_model_filepath=Path(config.checkpoint_model_filepath)\n",
    "        )\n",
    "\n",
    "        return prepare_callback_config\n"
   ]
  },
  {
   "cell_type": "code",
   "execution_count": 20,
   "metadata": {},
   "outputs": [],
   "source": [
    "import os\n",
    "import urllib.request as request\n",
    "from zipfile import ZipFile\n",
    "import tensorflow as tf\n",
    "import time"
   ]
  },
  {
   "cell_type": "code",
   "execution_count": 16,
   "metadata": {},
   "outputs": [],
   "source": [
    "\n",
    "\n",
    "class PrepareCallback:\n",
    "    def __init__(self, config: PrepareCallbacksConfig):\n",
    "        self.config = config\n",
    "\n",
    "\n",
    "    \n",
    "    @property\n",
    "    def _create_tb_callbacks(self):\n",
    "        timestamp = time.strftime(\"%Y-%m-%d-%H-%M-%S\")\n",
    "        tb_running_log_dir = os.path.join(\n",
    "            self.config.tensorboard_root_log_dir,\n",
    "            f\"tb_logs_at_{timestamp}\",\n",
    "        )\n",
    "        return tf.keras.callbacks.TensorBoard(log_dir=tb_running_log_dir)\n",
    "    \n",
    "\n",
    "    @property\n",
    "    def _create_ckpt_callbacks(self):\n",
    "        return tf.keras.callbacks.ModelCheckpoint(\n",
    "            filepath=self.config.checkpoint_model_filepath,\n",
    "            save_best_only=True\n",
    "        )\n",
    "\n",
    "\n",
    "    def get_tb_ckpt_callbacks(self):\n",
    "        return [\n",
    "            self._create_tb_callbacks,\n",
    "            self._create_ckpt_callbacks\n",
    "        ]\n",
    "\n"
   ]
  },
  {
   "cell_type": "code",
   "execution_count": 21,
   "metadata": {},
   "outputs": [
    {
     "name": "stdout",
     "output_type": "stream",
     "text": [
      "[2023-10-25 02:51:21,934: INFO: common: yaml file: config/config.yaml loaded successfully]\n",
      "[2023-10-25 02:51:21,938: INFO: common: yaml file: params.yaml loaded successfully]\n",
      "[2023-10-25 02:51:21,939: INFO: common: created directory at: artifacts]\n",
      "[2023-10-25 02:51:21,940: INFO: common: created directory at: artifacts/prepare_callbacks/checkpoint_dir]\n",
      "[2023-10-25 02:51:21,941: INFO: common: created directory at: artifacts/prepare_callbacks/tensorboard_log_dir]\n"
     ]
    },
    {
     "ename": "AttributeError",
     "evalue": "'ConfigurationManager' object has no attribute 'checkpoint_model_filepath'",
     "output_type": "error",
     "traceback": [
      "\u001b[0;31m---------------------------------------------------------------------------\u001b[0m",
      "\u001b[0;31mAttributeError\u001b[0m                            Traceback (most recent call last)",
      "\u001b[1;32m/home/oralb/Masaüstü/End_to_end_classification_project/Chicken-Desease-Classification_Project/research/03_prepare_callbacks.ipynb Hücre 11\u001b[0m line \u001b[0;36m8\n\u001b[1;32m      <a href='vscode-notebook-cell:/home/oralb/Masa%C3%BCst%C3%BC/End_to_end_classification_project/Chicken-Desease-Classification_Project/research/03_prepare_callbacks.ipynb#X13sZmlsZQ%3D%3D?line=4'>5</a>\u001b[0m     callback_list \u001b[39m=\u001b[39m prepare_callbacks\u001b[39m.\u001b[39mget_tb_ckpt_callbacks()\n\u001b[1;32m      <a href='vscode-notebook-cell:/home/oralb/Masa%C3%BCst%C3%BC/End_to_end_classification_project/Chicken-Desease-Classification_Project/research/03_prepare_callbacks.ipynb#X13sZmlsZQ%3D%3D?line=6'>7</a>\u001b[0m \u001b[39mexcept\u001b[39;00m \u001b[39mException\u001b[39;00m \u001b[39mas\u001b[39;00m e:\n\u001b[0;32m----> <a href='vscode-notebook-cell:/home/oralb/Masa%C3%BCst%C3%BC/End_to_end_classification_project/Chicken-Desease-Classification_Project/research/03_prepare_callbacks.ipynb#X13sZmlsZQ%3D%3D?line=7'>8</a>\u001b[0m     \u001b[39mraise\u001b[39;00m e\n",
      "\u001b[1;32m/home/oralb/Masaüstü/End_to_end_classification_project/Chicken-Desease-Classification_Project/research/03_prepare_callbacks.ipynb Hücre 11\u001b[0m line \u001b[0;36m5\n\u001b[1;32m      <a href='vscode-notebook-cell:/home/oralb/Masa%C3%BCst%C3%BC/End_to_end_classification_project/Chicken-Desease-Classification_Project/research/03_prepare_callbacks.ipynb#X13sZmlsZQ%3D%3D?line=2'>3</a>\u001b[0m     prepare_callbacks_config \u001b[39m=\u001b[39m config\u001b[39m.\u001b[39mget_prepare_callback_config()\n\u001b[1;32m      <a href='vscode-notebook-cell:/home/oralb/Masa%C3%BCst%C3%BC/End_to_end_classification_project/Chicken-Desease-Classification_Project/research/03_prepare_callbacks.ipynb#X13sZmlsZQ%3D%3D?line=3'>4</a>\u001b[0m     prepare_callbacks \u001b[39m=\u001b[39m PrepareCallback(config\u001b[39m=\u001b[39mprepare_callbacks_config)\n\u001b[0;32m----> <a href='vscode-notebook-cell:/home/oralb/Masa%C3%BCst%C3%BC/End_to_end_classification_project/Chicken-Desease-Classification_Project/research/03_prepare_callbacks.ipynb#X13sZmlsZQ%3D%3D?line=4'>5</a>\u001b[0m     callback_list \u001b[39m=\u001b[39m prepare_callbacks\u001b[39m.\u001b[39;49mget_tb_ckpt_callbacks()\n\u001b[1;32m      <a href='vscode-notebook-cell:/home/oralb/Masa%C3%BCst%C3%BC/End_to_end_classification_project/Chicken-Desease-Classification_Project/research/03_prepare_callbacks.ipynb#X13sZmlsZQ%3D%3D?line=6'>7</a>\u001b[0m \u001b[39mexcept\u001b[39;00m \u001b[39mException\u001b[39;00m \u001b[39mas\u001b[39;00m e:\n\u001b[1;32m      <a href='vscode-notebook-cell:/home/oralb/Masa%C3%BCst%C3%BC/End_to_end_classification_project/Chicken-Desease-Classification_Project/research/03_prepare_callbacks.ipynb#X13sZmlsZQ%3D%3D?line=7'>8</a>\u001b[0m     \u001b[39mraise\u001b[39;00m e\n",
      "\u001b[1;32m/home/oralb/Masaüstü/End_to_end_classification_project/Chicken-Desease-Classification_Project/research/03_prepare_callbacks.ipynb Hücre 11\u001b[0m line \u001b[0;36m2\n\u001b[1;32m     <a href='vscode-notebook-cell:/home/oralb/Masa%C3%BCst%C3%BC/End_to_end_classification_project/Chicken-Desease-Classification_Project/research/03_prepare_callbacks.ipynb#X13sZmlsZQ%3D%3D?line=24'>25</a>\u001b[0m \u001b[39mdef\u001b[39;00m \u001b[39mget_tb_ckpt_callbacks\u001b[39m(\u001b[39mself\u001b[39m):\n\u001b[1;32m     <a href='vscode-notebook-cell:/home/oralb/Masa%C3%BCst%C3%BC/End_to_end_classification_project/Chicken-Desease-Classification_Project/research/03_prepare_callbacks.ipynb#X13sZmlsZQ%3D%3D?line=25'>26</a>\u001b[0m     \u001b[39mreturn\u001b[39;00m [\n\u001b[1;32m     <a href='vscode-notebook-cell:/home/oralb/Masa%C3%BCst%C3%BC/End_to_end_classification_project/Chicken-Desease-Classification_Project/research/03_prepare_callbacks.ipynb#X13sZmlsZQ%3D%3D?line=26'>27</a>\u001b[0m         \u001b[39mself\u001b[39m\u001b[39m.\u001b[39m_create_tb_callbacks,\n\u001b[0;32m---> <a href='vscode-notebook-cell:/home/oralb/Masa%C3%BCst%C3%BC/End_to_end_classification_project/Chicken-Desease-Classification_Project/research/03_prepare_callbacks.ipynb#X13sZmlsZQ%3D%3D?line=27'>28</a>\u001b[0m         \u001b[39mself\u001b[39;49m\u001b[39m.\u001b[39;49m_create_ckpt_callbacks\n\u001b[1;32m     <a href='vscode-notebook-cell:/home/oralb/Masa%C3%BCst%C3%BC/End_to_end_classification_project/Chicken-Desease-Classification_Project/research/03_prepare_callbacks.ipynb#X13sZmlsZQ%3D%3D?line=28'>29</a>\u001b[0m     ]\n",
      "\u001b[1;32m/home/oralb/Masaüstü/End_to_end_classification_project/Chicken-Desease-Classification_Project/research/03_prepare_callbacks.ipynb Hücre 11\u001b[0m line \u001b[0;36m2\n\u001b[1;32m     <a href='vscode-notebook-cell:/home/oralb/Masa%C3%BCst%C3%BC/End_to_end_classification_project/Chicken-Desease-Classification_Project/research/03_prepare_callbacks.ipynb#X13sZmlsZQ%3D%3D?line=16'>17</a>\u001b[0m \u001b[39m@property\u001b[39m\n\u001b[1;32m     <a href='vscode-notebook-cell:/home/oralb/Masa%C3%BCst%C3%BC/End_to_end_classification_project/Chicken-Desease-Classification_Project/research/03_prepare_callbacks.ipynb#X13sZmlsZQ%3D%3D?line=17'>18</a>\u001b[0m \u001b[39mdef\u001b[39;00m \u001b[39m_create_ckpt_callbacks\u001b[39m(\u001b[39mself\u001b[39m):\n\u001b[1;32m     <a href='vscode-notebook-cell:/home/oralb/Masa%C3%BCst%C3%BC/End_to_end_classification_project/Chicken-Desease-Classification_Project/research/03_prepare_callbacks.ipynb#X13sZmlsZQ%3D%3D?line=18'>19</a>\u001b[0m     \u001b[39mreturn\u001b[39;00m tf\u001b[39m.\u001b[39mkeras\u001b[39m.\u001b[39mcallbacks\u001b[39m.\u001b[39mModelCheckpoint(\n\u001b[0;32m---> <a href='vscode-notebook-cell:/home/oralb/Masa%C3%BCst%C3%BC/End_to_end_classification_project/Chicken-Desease-Classification_Project/research/03_prepare_callbacks.ipynb#X13sZmlsZQ%3D%3D?line=19'>20</a>\u001b[0m         filepath\u001b[39m=\u001b[39mconfig\u001b[39m.\u001b[39;49mcheckpoint_model_filepath,\n\u001b[1;32m     <a href='vscode-notebook-cell:/home/oralb/Masa%C3%BCst%C3%BC/End_to_end_classification_project/Chicken-Desease-Classification_Project/research/03_prepare_callbacks.ipynb#X13sZmlsZQ%3D%3D?line=20'>21</a>\u001b[0m         save_best_only\u001b[39m=\u001b[39m\u001b[39mTrue\u001b[39;00m\n\u001b[1;32m     <a href='vscode-notebook-cell:/home/oralb/Masa%C3%BCst%C3%BC/End_to_end_classification_project/Chicken-Desease-Classification_Project/research/03_prepare_callbacks.ipynb#X13sZmlsZQ%3D%3D?line=21'>22</a>\u001b[0m     )\n",
      "\u001b[0;31mAttributeError\u001b[0m: 'ConfigurationManager' object has no attribute 'checkpoint_model_filepath'"
     ]
    }
   ],
   "source": [
    "try:\n",
    "    config = ConfigurationManager()\n",
    "    prepare_callbacks_config = config.get_prepare_callback_config()\n",
    "    prepare_callbacks = PrepareCallback(config=prepare_callbacks_config)\n",
    "    callback_list = prepare_callbacks.get_tb_ckpt_callbacks()\n",
    "    \n",
    "except Exception as e:\n",
    "    raise e\n"
   ]
  },
  {
   "cell_type": "code",
   "execution_count": null,
   "metadata": {},
   "outputs": [],
   "source": []
  }
 ],
 "metadata": {
  "kernelspec": {
   "display_name": "chicken",
   "language": "python",
   "name": "python3"
  },
  "language_info": {
   "codemirror_mode": {
    "name": "ipython",
    "version": 3
   },
   "file_extension": ".py",
   "mimetype": "text/x-python",
   "name": "python",
   "nbconvert_exporter": "python",
   "pygments_lexer": "ipython3",
   "version": "3.8.18"
  }
 },
 "nbformat": 4,
 "nbformat_minor": 2
}
